{
 "cells": [
  {
   "cell_type": "markdown",
   "metadata": {},
   "source": [
    "\"\"\"\n",
    "@Author: Shital Bajait\n",
    "@Date: 22-03-2022 15:56:00\n",
    "@Last Modified by: Shital Bajait \n",
    "@Last Modified time: 22-03-2022 15:56:00\n",
    "@Title : Operation using spark sql on cpu log data files \n",
    "\"\"\""
   ]
  },
  {
   "cell_type": "code",
   "execution_count": 6,
   "metadata": {},
   "outputs": [
    {
     "name": "stderr",
     "output_type": "stream",
     "text": [
      "22/03/27 18:59:08 WARN Utils: Your hostname, shital-VivoBook-ASUS-Laptop-X505ZA-X505ZA resolves to a loopback address: 127.0.1.1; using 192.168.0.241 instead (on interface wlp1s0)\n",
      "22/03/27 18:59:08 WARN Utils: Set SPARK_LOCAL_IP if you need to bind to another address\n",
      "Using Spark's default log4j profile: org/apache/spark/log4j-defaults.properties\n",
      "Setting default log level to \"WARN\".\n",
      "To adjust logging level use sc.setLogLevel(newLevel). For SparkR, use setLogLevel(newLevel).\n",
      "22/03/27 18:59:10 WARN NativeCodeLoader: Unable to load native-hadoop library for your platform... using builtin-java classes where applicable\n"
     ]
    }
   ],
   "source": [
    "from pyspark.sql import SparkSession\n",
    "spark = SparkSession.builder\\\n",
    "                    .master(\"local\")\\\n",
    "                    .appName(\"cpu data\")\\\n",
    "                    .getOrCreate()\n",
    "import pyspark.sql.functions as f"
   ]
  },
  {
   "cell_type": "code",
   "execution_count": 7,
   "metadata": {},
   "outputs": [
    {
     "name": "stderr",
     "output_type": "stream",
     "text": [
      "                                                                                \r"
     ]
    }
   ],
   "source": [
    "df = spark.read.csv(\"file:///home/shital/Desktop/CFP/cpu_log_data/*.csv\", header = True, inferSchema=True)"
   ]
  },
  {
   "cell_type": "code",
   "execution_count": 8,
   "metadata": {},
   "outputs": [
    {
     "name": "stdout",
     "output_type": "stream",
     "text": [
      "+--------------------+-------------------+--------+------+\n",
      "|           user_name|           DateTime|keyboard| mouse|\n",
      "+--------------------+-------------------+--------+------+\n",
      "|  iamnzm@outlook.com|2019-09-19 08:40:02|     1.0|  32.0|\n",
      "|  iamnzm@outlook.com|2019-09-19 08:45:02|     0.0|   0.0|\n",
      "|  iamnzm@outlook.com|2019-09-19 08:50:01|     0.0|   0.0|\n",
      "|  iamnzm@outlook.com|2019-09-19 08:55:01|    11.0| 900.0|\n",
      "|  iamnzm@outlook.com|2019-09-19 09:00:01|     2.0|  25.0|\n",
      "|  iamnzm@outlook.com|2019-09-19 09:05:01|    37.0| 336.0|\n",
      "|deepshukla292@gma...|2019-09-19 09:05:01|     0.0|  55.0|\n",
      "|  iamnzm@outlook.com|2019-09-19 09:10:01|     0.0| 136.0|\n",
      "|deepshukla292@gma...|2019-09-19 09:10:01|     6.0|1112.0|\n",
      "|  iamnzm@outlook.com|2019-09-19 09:15:02|     0.0|  84.0|\n",
      "|deepshukla292@gma...|2019-09-19 09:15:02|     0.0| 357.0|\n",
      "|markfernandes66@g...|2019-09-19 09:15:01|    20.0| 670.0|\n",
      "|markfernandes66@g...|2019-09-19 09:10:01|    17.0|   0.0|\n",
      "|markfernandes66@g...|2019-09-19 09:20:01|    29.0|1895.0|\n",
      "|  iamnzm@outlook.com|2019-09-19 09:20:02|     0.0|  29.0|\n",
      "|deepshukla292@gma...|2019-09-19 09:20:02|    35.0|3022.0|\n",
      "|markfernandes66@g...|2019-09-19 09:25:01|     2.0| 238.0|\n",
      "|  iamnzm@outlook.com|2019-09-19 09:25:01|     0.0|   0.0|\n",
      "|deepshukla292@gma...|2019-09-19 09:25:01|    20.0|1330.0|\n",
      "|markfernandes66@g...|2019-09-19 09:30:01|     5.0|  39.0|\n",
      "+--------------------+-------------------+--------+------+\n",
      "only showing top 20 rows\n",
      "\n"
     ]
    }
   ],
   "source": [
    "df1 = df.select(\"user_name\",\"DateTime\",\"keyboard\",\"mouse\")\n",
    "df1.show()"
   ]
  },
  {
   "cell_type": "code",
   "execution_count": 9,
   "metadata": {},
   "outputs": [
    {
     "name": "stderr",
     "output_type": "stream",
     "text": [
      "22/03/27 18:59:24 WARN package: Truncated the string representation of a plan since it was too large. This behavior can be adjusted by setting 'spark.sql.debug.maxToStringFields'.\n"
     ]
    }
   ],
   "source": [
    "df.createOrReplaceTempView(\"working_user_count\")"
   ]
  },
  {
   "cell_type": "code",
   "execution_count": 10,
   "metadata": {},
   "outputs": [
    {
     "name": "stdout",
     "output_type": "stream",
     "text": [
      "+--------------------+-----+\n",
      "|           user_name|count|\n",
      "+--------------------+-----+\n",
      "|salinabodale73@gm...|  569|\n",
      "|sharlawar77@gmail...|  580|\n",
      "|rahilstar11@gmail...|  551|\n",
      "|deepshukla292@gma...|  565|\n",
      "|  iamnzm@outlook.com|  614|\n",
      "|markfernandes66@g...|  508|\n",
      "|damodharn21@gmail...|  253|\n",
      "|bhagyashrichalke2...|  482|\n",
      "+--------------------+-----+\n",
      "\n"
     ]
    }
   ],
   "source": [
    "df3 = spark.sql(\"select user_name from working_user_count \").groupBy(\"user_name\").count()\n",
    "df3.show()"
   ]
  },
  {
   "cell_type": "code",
   "execution_count": 11,
   "metadata": {},
   "outputs": [],
   "source": [
    "import matplotlib.pyplot as plt\n"
   ]
  },
  {
   "cell_type": "code",
   "execution_count": 12,
   "metadata": {},
   "outputs": [
    {
     "data": {
      "image/png": "[encoded data removed]",
      "text/plain": [
       "<Figure size 432x288 with 1 Axes>"
      ]
     },
     "metadata": {
      "needs_background": "light"
     },
     "output_type": "display_data"
    }
   ],
   "source": [
    "pdf =  df3.toPandas()\n",
    "pdf.plot.bar(x='user_name', y = 'count', color = 'r')\n",
    "plt.show()\n"
   ]
  },
  {
   "cell_type": "code",
   "execution_count": 13,
   "metadata": {},
   "outputs": [],
   "source": [
    "df3.createOrReplaceTempView(\"average_sec\")"
   ]
  },
  {
   "cell_type": "markdown",
   "metadata": {},
   "source": [
    "Get average working seconds of users"
   ]
  },
  {
   "cell_type": "code",
   "execution_count": 14,
   "metadata": {},
   "outputs": [
    {
     "name": "stdout",
     "output_type": "stream",
     "text": [
      "+--------------------+-----+-------+\n",
      "|           user_name|count|avg_sec|\n",
      "+--------------------+-----+-------+\n",
      "|salinabodale73@gm...|  569|28450.0|\n",
      "|sharlawar77@gmail...|  580|29000.0|\n",
      "|rahilstar11@gmail...|  551|27550.0|\n",
      "|deepshukla292@gma...|  565|28250.0|\n",
      "|  iamnzm@outlook.com|  614|30700.0|\n",
      "|markfernandes66@g...|  508|25400.0|\n",
      "|damodharn21@gmail...|  253|12650.0|\n",
      "|bhagyashrichalke2...|  482|24100.0|\n",
      "+--------------------+-----+-------+\n",
      "\n"
     ]
    }
   ],
   "source": [
    "df4 = spark.sql(\"select user_name,count,((((count*5)*60)/6)) as avg_sec FROM average_sec\")\n",
    "df4.show()"
   ]
  },
  {
   "cell_type": "code",
   "execution_count": 15,
   "metadata": {},
   "outputs": [
    {
     "name": "stdout",
     "output_type": "stream",
     "text": [
      "+--------------------+-----+-------+---------+\n",
      "|           user_name|count|avg_sec|avg_hours|\n",
      "+--------------------+-----+-------+---------+\n",
      "|salinabodale73@gm...|  569|28450.0|     7:54|\n",
      "|sharlawar77@gmail...|  580|29000.0|      8:3|\n",
      "|rahilstar11@gmail...|  551|27550.0|     7:39|\n",
      "|deepshukla292@gma...|  565|28250.0|     7:50|\n",
      "|  iamnzm@outlook.com|  614|30700.0|     8:31|\n",
      "|markfernandes66@g...|  508|25400.0|      7:3|\n",
      "|damodharn21@gmail...|  253|12650.0|     3:30|\n",
      "|bhagyashrichalke2...|  482|24100.0|     6:41|\n",
      "+--------------------+-----+-------+---------+\n",
      "\n"
     ]
    }
   ],
   "source": [
    "from pyspark.sql.functions import *\n",
    "avg_hour = df4.withColumn(\"avg_hours\",concat(floor(col(\"avg_sec\")/3600), lit(\":\"),floor(col(\"avg_sec\")%3600/60)))\n",
    "avg_hour.show()"
   ]
  },
  {
   "cell_type": "code",
   "execution_count": 16,
   "metadata": {},
   "outputs": [
    {
     "name": "stdout",
     "output_type": "stream",
     "text": [
      "+-------------+\n",
      "|max_avg_hours|\n",
      "+-------------+\n",
      "|         8:31|\n",
      "+-------------+\n",
      "\n"
     ]
    }
   ],
   "source": [
    "avg_hour.select(f.max(\"avg_hours\").alias(\"max_avg_hours\")).show()"
   ]
  },
  {
   "cell_type": "code",
   "execution_count": 17,
   "metadata": {},
   "outputs": [
    {
     "name": "stdout",
     "output_type": "stream",
     "text": [
      "+-------------+\n",
      "|min_avg_hours|\n",
      "+-------------+\n",
      "|         3:30|\n",
      "+-------------+\n",
      "\n"
     ]
    }
   ],
   "source": [
    "avg_hour.select(f.min(\"avg_hours\").alias(\"min_avg_hours\")).show()"
   ]
  },
  {
   "cell_type": "code",
   "execution_count": 18,
   "metadata": {},
   "outputs": [
    {
     "name": "stderr",
     "output_type": "stream",
     "text": [
      "                                                                                \r"
     ]
    },
    {
     "data": {
      "image/png": "[encoded data removed]",
      "text/plain": [
       "<Figure size 432x288 with 1 Axes>"
      ]
     },
     "metadata": {
      "needs_background": "light"
     },
     "output_type": "display_data"
    }
   ],
   "source": [
    "import matplotlib.pyplot as plt\n",
    "pdf1 =  avg_hour.toPandas()\n",
    "pdf1.plot.bar(x = 'avg_hours', y = 'count')\n",
    "plt.show()"
   ]
  },
  {
   "cell_type": "code",
   "execution_count": 19,
   "metadata": {},
   "outputs": [
    {
     "name": "stdout",
     "output_type": "stream",
     "text": [
      "+--------------------+-----+\n",
      "|           user_name|count|\n",
      "+--------------------+-----+\n",
      "|salinabodale73@gm...|  239|\n",
      "|sharlawar77@gmail...|  178|\n",
      "|rahilstar11@gmail...|  256|\n",
      "|deepshukla292@gma...|  256|\n",
      "|  iamnzm@outlook.com|  259|\n",
      "|markfernandes66@g...|  235|\n",
      "|damodharn21@gmail...|  100|\n",
      "|bhagyashrichalke2...|  159|\n",
      "+--------------------+-----+\n",
      "\n"
     ]
    }
   ],
   "source": [
    "df5 = spark.sql(\"select user_name from working_user_count where keyboard=0 or mouse=0\").groupBy(\"user_name\").count()\n",
    "df5.show()"
   ]
  },
  {
   "cell_type": "code",
   "execution_count": 20,
   "metadata": {},
   "outputs": [
    {
     "data": {
      "image/png": "[encoded data removed]",
      "text/plain": [
       "<Figure size 432x288 with 1 Axes>"
      ]
     },
     "metadata": {
      "needs_background": "light"
     },
     "output_type": "display_data"
    }
   ],
   "source": [
    "import matplotlib.pyplot as plt\n",
    "pdf =  df5.toPandas()\n",
    "pdf.plot.bar(x='user_name', y = 'count', color = 'r')\n",
    "plt.show()"
   ]
  },
  {
   "cell_type": "code",
   "execution_count": 21,
   "metadata": {},
   "outputs": [],
   "source": [
    "df5.createOrReplaceTempView(\"idle_hours\")"
   ]
  },
  {
   "cell_type": "code",
   "execution_count": 22,
   "metadata": {},
   "outputs": [
    {
     "name": "stdout",
     "output_type": "stream",
     "text": [
      "+--------------------+-----+-------+\n",
      "|           user_name|count|avg_sec|\n",
      "+--------------------+-----+-------+\n",
      "|salinabodale73@gm...|  239|11950.0|\n",
      "|sharlawar77@gmail...|  178| 8900.0|\n",
      "|rahilstar11@gmail...|  256|12800.0|\n",
      "|deepshukla292@gma...|  256|12800.0|\n",
      "|  iamnzm@outlook.com|  259|12950.0|\n",
      "|markfernandes66@g...|  235|11750.0|\n",
      "|damodharn21@gmail...|  100| 5000.0|\n",
      "|bhagyashrichalke2...|  159| 7950.0|\n",
      "+--------------------+-----+-------+\n",
      "\n"
     ]
    }
   ],
   "source": [
    "df6  = spark.sql(\"select user_name,count,((((count*5)*60)/6)) as avg_sec FROM idle_hours\")\n",
    "df6.show()"
   ]
  },
  {
   "cell_type": "code",
   "execution_count": 23,
   "metadata": {},
   "outputs": [
    {
     "name": "stdout",
     "output_type": "stream",
     "text": [
      "+--------------------+-----+-------+--------------+\n",
      "|           user_name|count|avg_sec|avg_idle_hours|\n",
      "+--------------------+-----+-------+--------------+\n",
      "|salinabodale73@gm...|  569|28450.0|          7:54|\n",
      "|sharlawar77@gmail...|  580|29000.0|           8:3|\n",
      "|rahilstar11@gmail...|  551|27550.0|          7:39|\n",
      "|deepshukla292@gma...|  565|28250.0|          7:50|\n",
      "|  iamnzm@outlook.com|  614|30700.0|          8:31|\n",
      "|markfernandes66@g...|  508|25400.0|           7:3|\n",
      "|damodharn21@gmail...|  253|12650.0|          3:30|\n",
      "|bhagyashrichalke2...|  482|24100.0|          6:41|\n",
      "+--------------------+-----+-------+--------------+\n",
      "\n"
     ]
    }
   ],
   "source": [
    "avg_idle_hour = df4.withColumn(\"avg_idle_hours\",concat(floor(col(\"avg_sec\")/3600), lit(\":\"),floor(col(\"avg_sec\")%3600/60)))\n",
    "avg_idle_hour.show()"
   ]
  },
  {
   "cell_type": "code",
   "execution_count": 24,
   "metadata": {},
   "outputs": [
    {
     "data": {
      "image/png": "[encoded data removed]",
      "text/plain": [
       "<Figure size 432x288 with 1 Axes>"
      ]
     },
     "metadata": {
      "needs_background": "light"
     },
     "output_type": "display_data"
    }
   ],
   "source": [
    "import matplotlib.pyplot as plt\n",
    "pdf1 =  avg_idle_hour.toPandas()\n",
    "pdf1.plot.bar(x = 'avg_idle_hours', y = 'count')\n",
    "plt.show()"
   ]
  },
  {
   "cell_type": "code",
   "execution_count": 25,
   "metadata": {},
   "outputs": [
    {
     "name": "stdout",
     "output_type": "stream",
     "text": [
      "+------------------+\n",
      "|max_avg_idle_hours|\n",
      "+------------------+\n",
      "|              8:31|\n",
      "+------------------+\n",
      "\n"
     ]
    }
   ],
   "source": [
    "avg_idle_hour.select(f.max(\"avg_idle_hours\").alias(\"max_avg_idle_hours\")).show()"
   ]
  },
  {
   "cell_type": "code",
   "execution_count": 26,
   "metadata": {},
   "outputs": [
    {
     "name": "stdout",
     "output_type": "stream",
     "text": [
      "+------------------+\n",
      "|min_avg_idle_hours|\n",
      "+------------------+\n",
      "|              3:30|\n",
      "+------------------+\n",
      "\n"
     ]
    }
   ],
   "source": [
    "avg_idle_hour.select(f.min(\"avg_idle_hours\").alias(\"min_avg_idle_hours\")).show()"
   ]
  },
  {
   "cell_type": "code",
   "execution_count": null,
   "metadata": {},
   "outputs": [],
   "source": [
    "import os\n",
    "from dotenv import load_dotenv\n",
    "load_dotenv('.env')\n",
    "\n",
    "DATABASE = os.getenv(\"DATABASE\")\n",
    "USER = os.getenv(\"USER\")\n",
    "PASSWORD = os.getenv(\"PASSWORD\")\n",
    "HOST = os.getenv(\"HOST\")\n",
    "AUTH_PLUGIN = os.getenv(\"AUTH_PLUGIN\")\n",
    "    "
   ]
  },
  {
   "cell_type": "code",
   "execution_count": null,
   "metadata": {},
   "outputs": [],
   "source": [
    "conn = mysql.connector.connect(\n",
    "    \n",
    ")"
   ]
  },
  {
   "cell_type": "code",
   "execution_count": 35,
   "metadata": {},
   "outputs": [
    {
     "name": "stdout",
     "output_type": "stream",
     "text": [
      "+--------------------+-----+\n",
      "|           user_name|count|\n",
      "+--------------------+-----+\n",
      "|salinabodale73@gm...|  569|\n",
      "|sharlawar77@gmail...|  580|\n",
      "|rahilstar11@gmail...|  551|\n",
      "|deepshukla292@gma...|  565|\n",
      "|  iamnzm@outlook.com|  614|\n",
      "|markfernandes66@g...|  508|\n",
      "|damodharn21@gmail...|  253|\n",
      "|bhagyashrichalke2...|  482|\n",
      "+--------------------+-----+\n",
      "\n"
     ]
    }
   ],
   "source": [
    "df3.createOrReplaceTempView(\"late_user_count\")\n",
    "df3.show()"
   ]
  },
  {
   "cell_type": "code",
   "execution_count": 36,
   "metadata": {},
   "outputs": [
    {
     "name": "stdout",
     "output_type": "stream",
     "text": [
      "+----------------+\n",
      "|late_coming_user|\n",
      "+----------------+\n",
      "|             253|\n",
      "+----------------+\n",
      "\n"
     ]
    }
   ],
   "source": [
    "df3.select(f.min(\"count\").alias(\"late_coming_user\")).show()"
   ]
  }
 ],
 "metadata": {
  "interpreter": {
   "hash": "916dbcbb3f70747c44a77c7bcd40155683ae19c65e1c03b4aa3499c5328201f1"
  },
  "kernelspec": {
   "display_name": "Python 3.8.10 64-bit",
   "language": "python",
   "name": "python3"
  },
  "language_info": {
   "codemirror_mode": {
    "name": "ipython",
    "version": 3
   },
   "file_extension": ".py",
   "mimetype": "text/x-python",
   "name": "python",
   "nbconvert_exporter": "python",
   "pygments_lexer": "ipython3",
   "version": "3.8.10"
  },
  "orig_nbformat": 4
 },
 "nbformat": 4,
 "nbformat_minor": 2
}
